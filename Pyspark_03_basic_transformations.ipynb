{
  "nbformat": 4,
  "nbformat_minor": 0,
  "metadata": {
    "colab": {
      "provenance": [],
      "history_visible": true,
      "authorship_tag": "ABX9TyNShda5uXA5g3DeRIXOtDGz"
    },
    "kernelspec": {
      "name": "python3",
      "display_name": "Python 3"
    },
    "language_info": {
      "name": "python"
    }
  },
  "cells": [
    {
      "cell_type": "code",
      "execution_count": 1,
      "metadata": {
        "colab": {
          "base_uri": "https://localhost:8080/"
        },
        "id": "qRWoUDwKgoFA",
        "outputId": "56c7095c-57a0-4704-ce43-b9b96c375e8b"
      },
      "outputs": [
        {
          "output_type": "stream",
          "name": "stdout",
          "text": [
            "Requirement already satisfied: pyspark in /usr/local/lib/python3.11/dist-packages (3.5.1)\n",
            "Requirement already satisfied: py4j==0.10.9.7 in /usr/local/lib/python3.11/dist-packages (from pyspark) (0.10.9.7)\n"
          ]
        }
      ],
      "source": [
        "!pip install pyspark"
      ]
    },
    {
      "cell_type": "code",
      "source": [
        "from pyspark.sql import SparkSession\n",
        "\n",
        "spark =(\n",
        "    SparkSession\n",
        "    .builder\n",
        "    .appName(\"Create DF on fly\")\n",
        "    .master(\"local[*]\")\n",
        "    .getOrCreate())\n",
        "\n",
        "spark\n",
        "spark"
      ],
      "metadata": {
        "colab": {
          "base_uri": "https://localhost:8080/",
          "height": 219
        },
        "id": "ALvv_-zbg1Ah",
        "outputId": "827cebcc-9f22-4b04-fa52-68f8e8f4c542"
      },
      "execution_count": 7,
      "outputs": [
        {
          "output_type": "execute_result",
          "data": {
            "text/plain": [
              "<pyspark.sql.session.SparkSession at 0x7a49ac642f50>"
            ],
            "text/html": [
              "\n",
              "            <div>\n",
              "                <p><b>SparkSession - in-memory</b></p>\n",
              "                \n",
              "        <div>\n",
              "            <p><b>SparkContext</b></p>\n",
              "\n",
              "            <p><a href=\"http://e506568f36f2:4040\">Spark UI</a></p>\n",
              "\n",
              "            <dl>\n",
              "              <dt>Version</dt>\n",
              "                <dd><code>v3.5.1</code></dd>\n",
              "              <dt>Master</dt>\n",
              "                <dd><code>local[*]</code></dd>\n",
              "              <dt>AppName</dt>\n",
              "                <dd><code>Create DF on fly</code></dd>\n",
              "            </dl>\n",
              "        </div>\n",
              "        \n",
              "            </div>\n",
              "        "
            ]
          },
          "metadata": {},
          "execution_count": 7
        }
      ]
    },
    {
      "cell_type": "code",
      "source": [
        "# Emp Data & Schema\n",
        "\n",
        "emp_data = [\n",
        "    [\"001\",\"101\",\"John Doe\",\"30\",\"Male\",\"50000\",\"2015-01-01\"],\n",
        "    [\"002\",\"101\",\"Jane Smith\",\"25\",\"Female\",\"45000\",\"2016-02-15\"],\n",
        "    [\"003\",\"102\",\"Bob Brown\",\"35\",\"Male\",\"55000\",\"2014-05-01\"],\n",
        "    [\"004\",\"102\",\"Alice Lee\",\"28\",\"Female\",\"48000\",\"2017-09-30\"],\n",
        "    [\"005\",\"103\",\"Jack Chan\",\"40\",\"Male\",\"60000\",\"2013-04-01\"],\n",
        "    [\"006\",\"103\",\"Jill Wong\",\"32\",\"Female\",\"52000\",\"2018-07-01\"],\n",
        "    [\"007\",\"101\",\"James Johnson\",\"42\",\"Male\",\"70000\",\"2012-03-15\"],\n",
        "    [\"008\",\"102\",\"Kate Kim\",\"29\",\"Female\",\"51000\",\"2019-10-01\"],\n",
        "    [\"009\",\"103\",\"Tom Tan\",\"33\",\"Male\",\"58000\",\"2016-06-01\"],\n",
        "    [\"010\",\"104\",\"Lisa Lee\",\"27\",\"Female\",\"47000\",\"2018-08-01\"],\n",
        "    [\"011\",\"104\",\"David Park\",\"38\",\"Male\",\"65000\",\"2015-11-01\"],\n",
        "    [\"012\",\"105\",\"Susan Chen\",\"31\",\"Female\",\"54000\",\"2017-02-15\"],\n",
        "    [\"013\",\"106\",\"Brian Kim\",\"45\",\"Male\",\"75000\",\"2011-07-01\"],\n",
        "    [\"014\",\"107\",\"Emily Lee\",\"26\",\"Female\",\"46000\",\"2019-01-01\"],\n",
        "    [\"015\",\"106\",\"Michael Lee\",\"37\",\"Male\",\"63000\",\"2014-09-30\"],\n",
        "    [\"016\",\"107\",\"Kelly Zhang\",\"30\",\"Female\",\"49000\",\"2018-04-01\"],\n",
        "    [\"017\",\"105\",\"George Wang\",\"34\",\"Male\",\"57000\",\"2016-03-15\"],\n",
        "    [\"018\",\"104\",\"Nancy Liu\",\"29\",\"Female\",\"50000\",\"2017-06-01\"],\n",
        "    [\"019\",\"103\",\"Steven Chen\",\"36\",\"Male\",\"62000\",\"2015-08-01\"],\n",
        "    [\"020\",\"102\",\"Grace Kim\",\"32\",\"Female\",\"53000\",\"2018-11-01\"]\n",
        "]"
      ],
      "metadata": {
        "id": "W4kzzJ8FiBCI"
      },
      "execution_count": 7,
      "outputs": []
    },
    {
      "cell_type": "code",
      "source": [
        "emp_schema =\"employee_id string, department_id string, name string, age string, gender string, salary string, hire_date string\""
      ],
      "metadata": {
        "id": "tdAIj--87zv8"
      },
      "execution_count": 8,
      "outputs": []
    },
    {
      "cell_type": "code",
      "source": [
        "# Create emp DataFrame\n",
        "\n",
        "emp = spark.createDataFrame(data=emp_data, schema=emp_schema)"
      ],
      "metadata": {
        "id": "_LwSK0qH7-N0"
      },
      "execution_count": 35,
      "outputs": []
    },
    {
      "cell_type": "code",
      "source": [
        "# Check number of partitions\n",
        "\n",
        "emp.rdd.getNumPartitions()"
      ],
      "metadata": {
        "colab": {
          "base_uri": "https://localhost:8080/"
        },
        "id": "uLF8JrEkA3VZ",
        "outputId": "dc7b917f-b14d-478b-aae6-90df2b9d0f3d"
      },
      "execution_count": 36,
      "outputs": [
        {
          "output_type": "execute_result",
          "data": {
            "text/plain": [
              "2"
            ]
          },
          "metadata": {},
          "execution_count": 36
        }
      ]
    },
    {
      "cell_type": "code",
      "source": [
        "emp = spark.createDataFrame(data=emp_data,schema=emp_schema)\n",
        "emp.rdd.getNumPartitions()"
      ],
      "metadata": {
        "colab": {
          "base_uri": "https://localhost:8080/"
        },
        "id": "9lz09lcA_rvO",
        "outputId": "1abd24a9-7c0c-4a1f-cc1e-8efad153e4fc"
      },
      "execution_count": 7,
      "outputs": [
        {
          "output_type": "execute_result",
          "data": {
            "text/plain": [
              "2"
            ]
          },
          "metadata": {},
          "execution_count": 7
        }
      ]
    },
    {
      "cell_type": "code",
      "source": [
        "# Show data (ACTION)\n",
        "\n",
        "emp.show()"
      ],
      "metadata": {
        "colab": {
          "base_uri": "https://localhost:8080/"
        },
        "id": "pjBmETbvAZ16",
        "outputId": "aa55ee92-11cf-4b4e-c58a-02d6aa0f20ec"
      },
      "execution_count": 8,
      "outputs": [
        {
          "output_type": "stream",
          "name": "stdout",
          "text": [
            "+-----------+-------------+-------------+---+------+------+----------+\n",
            "|employee_id|department_id|         name|age|gender|salary| hire_date|\n",
            "+-----------+-------------+-------------+---+------+------+----------+\n",
            "|        001|          101|     John Doe| 30|  Male| 50000|2015-01-01|\n",
            "|        002|          101|   Jane Smith| 25|Female| 45000|2016-02-15|\n",
            "|        003|          102|    Bob Brown| 35|  Male| 55000|2014-05-01|\n",
            "|        004|          102|    Alice Lee| 28|Female| 48000|2017-09-30|\n",
            "|        005|          103|    Jack Chan| 40|  Male| 60000|2013-04-01|\n",
            "|        006|          103|    Jill Wong| 32|Female| 52000|2018-07-01|\n",
            "|        007|          101|James Johnson| 42|  Male| 70000|2012-03-15|\n",
            "|        008|          102|     Kate Kim| 29|Female| 51000|2019-10-01|\n",
            "|        009|          103|      Tom Tan| 33|  Male| 58000|2016-06-01|\n",
            "|        010|          104|     Lisa Lee| 27|Female| 47000|2018-08-01|\n",
            "|        011|          104|   David Park| 38|  Male| 65000|2015-11-01|\n",
            "|        012|          105|   Susan Chen| 31|Female| 54000|2017-02-15|\n",
            "|        013|          106|    Brian Kim| 45|  Male| 75000|2011-07-01|\n",
            "|        014|          107|    Emily Lee| 26|Female| 46000|2019-01-01|\n",
            "|        015|          106|  Michael Lee| 37|  Male| 63000|2014-09-30|\n",
            "|        016|          107|  Kelly Zhang| 30|Female| 49000|2018-04-01|\n",
            "|        017|          105|  George Wang| 34|  Male| 57000|2016-03-15|\n",
            "|        018|          104|    Nancy Liu| 29|Female| 50000|2017-06-01|\n",
            "|        019|          103|  Steven Chen| 36|  Male| 62000|2015-08-01|\n",
            "|        020|          102|    Grace Kim| 32|Female| 53000|2018-11-01|\n",
            "+-----------+-------------+-------------+---+------+------+----------+\n",
            "\n"
          ]
        }
      ]
    },
    {
      "cell_type": "code",
      "source": [
        "# Write our first Transformation (EMP salary > 50000)\n",
        "\n",
        "emp_final = emp.where(\"salary > 50000\")"
      ],
      "metadata": {
        "id": "JfWrBZmbErck"
      },
      "execution_count": 37,
      "outputs": []
    },
    {
      "cell_type": "code",
      "source": [
        "# Validate number of Partitions\n",
        "\n",
        "emp_final.rdd.getNumPartitions()"
      ],
      "metadata": {
        "colab": {
          "base_uri": "https://localhost:8080/"
        },
        "id": "xPoIHI5jEyxg",
        "outputId": "442e8b5f-ab02-4c49-b3a1-3c268c5ed4a3"
      },
      "execution_count": 38,
      "outputs": [
        {
          "output_type": "execute_result",
          "data": {
            "text/plain": [
              "2"
            ]
          },
          "metadata": {},
          "execution_count": 38
        }
      ]
    },
    {
      "cell_type": "code",
      "source": [
        "# Write data as CSV output (ACTION)\n",
        "\n",
        "emp_final.write.format(\"csv\").save(\"data/output/20/emp.csv\")"
      ],
      "metadata": {
        "id": "u0o8MlluE4hV"
      },
      "execution_count": 55,
      "outputs": []
    },
    {
      "cell_type": "code",
      "source": [
        "emp.schema"
      ],
      "metadata": {
        "colab": {
          "base_uri": "https://localhost:8080/"
        },
        "id": "tBONt-0cOzWl",
        "outputId": "6b2c2d8f-56dd-4979-ec69-8a2db2087a64"
      },
      "execution_count": 10,
      "outputs": [
        {
          "output_type": "execute_result",
          "data": {
            "text/plain": [
              "StructType([StructField('employee_id', StringType(), True), StructField('department_id', StringType(), True), StructField('name', StringType(), True), StructField('age', StringType(), True), StructField('gender', StringType(), True), StructField('salary', StringType(), True), StructField('hire_date', StringType(), True)])"
            ]
          },
          "metadata": {},
          "execution_count": 10
        }
      ]
    },
    {
      "cell_type": "code",
      "source": [
        "# Small Example for Schema\n",
        "from pyspark.sql.types import StructType, StructField, StringType, IntegerType\n",
        "schema_string = \"name string, age int\"\n",
        "\n",
        "schema_spark =  StructType([\n",
        "    StructField(\"name\", StringType(), True),\n",
        "    StructField(\"age\", IntegerType(), True)\n",
        "])"
      ],
      "metadata": {
        "id": "pSOsvDXZT6dB"
      },
      "execution_count": 40,
      "outputs": []
    },
    {
      "cell_type": "code",
      "source": [
        "from pyspark.sql.types import StructType, StructField, IntegerType, StringType\n",
        "schema_string = \"name string, age int  \"\n",
        "\n",
        "schema_spark = StructType([StructField(\"name\", StringType(), True),StructField(\"age\", StringType(), True)])"
      ],
      "metadata": {
        "id": "5Qt-7wkUWmF5"
      },
      "execution_count": 41,
      "outputs": []
    },
    {
      "cell_type": "code",
      "source": [
        "from pyspark.sql.functions import expr, col\n"
      ],
      "metadata": {
        "id": "FHW4Xh-WXhht"
      },
      "execution_count": 42,
      "outputs": []
    },
    {
      "cell_type": "code",
      "source": [
        "emp[\"salary\"]"
      ],
      "metadata": {
        "colab": {
          "base_uri": "https://localhost:8080/"
        },
        "id": "Hsn-U8hqYQ2J",
        "outputId": "bcd9fe51-df89-4c98-c59c-2f7e550961c6"
      },
      "execution_count": 43,
      "outputs": [
        {
          "output_type": "execute_result",
          "data": {
            "text/plain": [
              "Column<'salary'>"
            ]
          },
          "metadata": {},
          "execution_count": 43
        }
      ]
    },
    {
      "cell_type": "code",
      "source": [
        "# SELECT columns\n",
        "# select employee_id, name, age, salary from emp\n",
        "emp_filtered = emp.select(col(\"employee_id\"), expr(\"name\"), emp.age, emp.salary)"
      ],
      "metadata": {
        "id": "8LF2Fl4tYSl2"
      },
      "execution_count": 44,
      "outputs": []
    },
    {
      "cell_type": "code",
      "source": [
        "emp_filtered.show()"
      ],
      "metadata": {
        "colab": {
          "base_uri": "https://localhost:8080/"
        },
        "collapsed": true,
        "id": "HhqVnYdRY8dI",
        "outputId": "e7e44e06-3889-4f5b-a722-d9eabf6f3dfc"
      },
      "execution_count": 45,
      "outputs": [
        {
          "output_type": "stream",
          "name": "stdout",
          "text": [
            "+-----------+-------------+---+------+\n",
            "|employee_id|         name|age|salary|\n",
            "+-----------+-------------+---+------+\n",
            "|        001|     John Doe| 30| 50000|\n",
            "|        002|   Jane Smith| 25| 45000|\n",
            "|        003|    Bob Brown| 35| 55000|\n",
            "|        004|    Alice Lee| 28| 48000|\n",
            "|        005|    Jack Chan| 40| 60000|\n",
            "|        006|    Jill Wong| 32| 52000|\n",
            "|        007|James Johnson| 42| 70000|\n",
            "|        008|     Kate Kim| 29| 51000|\n",
            "|        009|      Tom Tan| 33| 58000|\n",
            "|        010|     Lisa Lee| 27| 47000|\n",
            "|        011|   David Park| 38| 65000|\n",
            "|        012|   Susan Chen| 31| 54000|\n",
            "|        013|    Brian Kim| 45| 75000|\n",
            "|        014|    Emily Lee| 26| 46000|\n",
            "|        015|  Michael Lee| 37| 63000|\n",
            "|        016|  Kelly Zhang| 30| 49000|\n",
            "|        017|  George Wang| 34| 57000|\n",
            "|        018|    Nancy Liu| 29| 50000|\n",
            "|        019|  Steven Chen| 36| 62000|\n",
            "|        020|    Grace Kim| 32| 53000|\n",
            "+-----------+-------------+---+------+\n",
            "\n"
          ]
        }
      ]
    },
    {
      "cell_type": "code",
      "source": [
        "# Using expr for select\n",
        "# select employee_id as emp_id, name, cast(age as int) as age, salary from emp_filtered\n",
        "\n",
        "emp_casted =emp_filtered.select(expr(\"employee_id as emp_id\"), emp.name, expr(\"cast(age as int) as age\"),emp.salary)"
      ],
      "metadata": {
        "id": "3ZFPM9PnZdrm"
      },
      "execution_count": 46,
      "outputs": []
    },
    {
      "cell_type": "code",
      "source": [
        "#show datframe\n",
        "emp_casted.show()"
      ],
      "metadata": {
        "colab": {
          "base_uri": "https://localhost:8080/"
        },
        "id": "-Yb89Jnfa-jB",
        "outputId": "c43d249d-d0c8-4942-e4c1-9fb6792ce667"
      },
      "execution_count": 47,
      "outputs": [
        {
          "output_type": "stream",
          "name": "stdout",
          "text": [
            "+------+-------------+---+------+\n",
            "|emp_id|         name|age|salary|\n",
            "+------+-------------+---+------+\n",
            "|   001|     John Doe| 30| 50000|\n",
            "|   002|   Jane Smith| 25| 45000|\n",
            "|   003|    Bob Brown| 35| 55000|\n",
            "|   004|    Alice Lee| 28| 48000|\n",
            "|   005|    Jack Chan| 40| 60000|\n",
            "|   006|    Jill Wong| 32| 52000|\n",
            "|   007|James Johnson| 42| 70000|\n",
            "|   008|     Kate Kim| 29| 51000|\n",
            "|   009|      Tom Tan| 33| 58000|\n",
            "|   010|     Lisa Lee| 27| 47000|\n",
            "|   011|   David Park| 38| 65000|\n",
            "|   012|   Susan Chen| 31| 54000|\n",
            "|   013|    Brian Kim| 45| 75000|\n",
            "|   014|    Emily Lee| 26| 46000|\n",
            "|   015|  Michael Lee| 37| 63000|\n",
            "|   016|  Kelly Zhang| 30| 49000|\n",
            "|   017|  George Wang| 34| 57000|\n",
            "|   018|    Nancy Liu| 29| 50000|\n",
            "|   019|  Steven Chen| 36| 62000|\n",
            "|   020|    Grace Kim| 32| 53000|\n",
            "+------+-------------+---+------+\n",
            "\n"
          ]
        }
      ]
    },
    {
      "cell_type": "code",
      "source": [
        "emp_casted.printSchema()"
      ],
      "metadata": {
        "colab": {
          "base_uri": "https://localhost:8080/"
        },
        "id": "-ikIB3jXbMFH",
        "outputId": "6776cb6e-ec64-456f-af3d-5bdc0cb91006"
      },
      "execution_count": 48,
      "outputs": [
        {
          "output_type": "stream",
          "name": "stdout",
          "text": [
            "root\n",
            " |-- emp_id: string (nullable = true)\n",
            " |-- name: string (nullable = true)\n",
            " |-- age: integer (nullable = true)\n",
            " |-- salary: string (nullable = true)\n",
            "\n"
          ]
        }
      ]
    },
    {
      "cell_type": "code",
      "source": [
        "emp_casted.schema"
      ],
      "metadata": {
        "colab": {
          "base_uri": "https://localhost:8080/"
        },
        "id": "YSuNUtDrbedU",
        "outputId": "df7ebe8a-edf3-4977-a849-e0648c882e90"
      },
      "execution_count": 49,
      "outputs": [
        {
          "output_type": "execute_result",
          "data": {
            "text/plain": [
              "StructType([StructField('emp_id', StringType(), True), StructField('name', StringType(), True), StructField('age', IntegerType(), True), StructField('salary', StringType(), True)])"
            ]
          },
          "metadata": {},
          "execution_count": 49
        }
      ]
    },
    {
      "cell_type": "code",
      "source": [
        "emp_casted_1=emp_filtered.selectExpr(\"employee_id as emp_id\",\"name\",\"cast(age as int) as age\",\"salary\")"
      ],
      "metadata": {
        "id": "tEAG5Dkybgxi"
      },
      "execution_count": 50,
      "outputs": []
    },
    {
      "cell_type": "code",
      "source": [
        "emp_casted_1.show()"
      ],
      "metadata": {
        "colab": {
          "base_uri": "https://localhost:8080/"
        },
        "id": "FRKYoxcdcHTV",
        "outputId": "1cc7669d-1355-46d3-a861-8c582250ba35"
      },
      "execution_count": 51,
      "outputs": [
        {
          "output_type": "stream",
          "name": "stdout",
          "text": [
            "+------+-------------+---+------+\n",
            "|emp_id|         name|age|salary|\n",
            "+------+-------------+---+------+\n",
            "|   001|     John Doe| 30| 50000|\n",
            "|   002|   Jane Smith| 25| 45000|\n",
            "|   003|    Bob Brown| 35| 55000|\n",
            "|   004|    Alice Lee| 28| 48000|\n",
            "|   005|    Jack Chan| 40| 60000|\n",
            "|   006|    Jill Wong| 32| 52000|\n",
            "|   007|James Johnson| 42| 70000|\n",
            "|   008|     Kate Kim| 29| 51000|\n",
            "|   009|      Tom Tan| 33| 58000|\n",
            "|   010|     Lisa Lee| 27| 47000|\n",
            "|   011|   David Park| 38| 65000|\n",
            "|   012|   Susan Chen| 31| 54000|\n",
            "|   013|    Brian Kim| 45| 75000|\n",
            "|   014|    Emily Lee| 26| 46000|\n",
            "|   015|  Michael Lee| 37| 63000|\n",
            "|   016|  Kelly Zhang| 30| 49000|\n",
            "|   017|  George Wang| 34| 57000|\n",
            "|   018|    Nancy Liu| 29| 50000|\n",
            "|   019|  Steven Chen| 36| 62000|\n",
            "|   020|    Grace Kim| 32| 53000|\n",
            "+------+-------------+---+------+\n",
            "\n"
          ]
        }
      ]
    },
    {
      "cell_type": "code",
      "source": [
        "# Q1Filter emp based on Age > 30\n",
        "# select emp_id, name, age, salary from emp_casted where age > 30\n",
        "emp_filtered11 = emp_casted.where(\"age > 30\")\n",
        "\n",
        "emp_final =emp_casted.select(\"emp_id\",\"name\",\"age\",\"salary\").where(\"age > 30\")"
      ],
      "metadata": {
        "id": "TGSI2zkucWQh"
      },
      "execution_count": 60,
      "outputs": []
    },
    {
      "cell_type": "code",
      "source": [
        "emp_final.show()"
      ],
      "metadata": {
        "colab": {
          "base_uri": "https://localhost:8080/"
        },
        "id": "_y8bXVSxdPza",
        "outputId": "4a809cfd-b066-4a0b-a5ba-7b9007b5a43b"
      },
      "execution_count": 57,
      "outputs": [
        {
          "output_type": "stream",
          "name": "stdout",
          "text": [
            "+------+-------------+---+------+\n",
            "|emp_id|         name|age|salary|\n",
            "+------+-------------+---+------+\n",
            "|   003|    Bob Brown| 35| 55000|\n",
            "|   005|    Jack Chan| 40| 60000|\n",
            "|   006|    Jill Wong| 32| 52000|\n",
            "|   007|James Johnson| 42| 70000|\n",
            "|   009|      Tom Tan| 33| 58000|\n",
            "|   011|   David Park| 38| 65000|\n",
            "|   012|   Susan Chen| 31| 54000|\n",
            "|   013|    Brian Kim| 45| 75000|\n",
            "|   015|  Michael Lee| 37| 63000|\n",
            "|   017|  George Wang| 34| 57000|\n",
            "|   019|  Steven Chen| 36| 62000|\n",
            "|   020|    Grace Kim| 32| 53000|\n",
            "+------+-------------+---+------+\n",
            "\n"
          ]
        }
      ]
    },
    {
      "cell_type": "code",
      "source": [
        "emp_filtered11.show()"
      ],
      "metadata": {
        "colab": {
          "base_uri": "https://localhost:8080/"
        },
        "id": "_wg619KUhAXB",
        "outputId": "cd27cf51-71a2-4d14-d60d-e862cb3a4b21"
      },
      "execution_count": 63,
      "outputs": [
        {
          "output_type": "stream",
          "name": "stdout",
          "text": [
            "+------+-------------+---+------+\n",
            "|emp_id|         name|age|salary|\n",
            "+------+-------------+---+------+\n",
            "|   003|    Bob Brown| 35| 55000|\n",
            "|   005|    Jack Chan| 40| 60000|\n",
            "|   006|    Jill Wong| 32| 52000|\n",
            "|   007|James Johnson| 42| 70000|\n",
            "|   009|      Tom Tan| 33| 58000|\n",
            "|   011|   David Park| 38| 65000|\n",
            "|   012|   Susan Chen| 31| 54000|\n",
            "|   013|    Brian Kim| 45| 75000|\n",
            "|   015|  Michael Lee| 37| 63000|\n",
            "|   017|  George Wang| 34| 57000|\n",
            "|   019|  Steven Chen| 36| 62000|\n",
            "|   020|    Grace Kim| 32| 53000|\n",
            "+------+-------------+---+------+\n",
            "\n"
          ]
        }
      ]
    },
    {
      "cell_type": "code",
      "source": [
        "emp_final.write.format(\"csv\").save(\"data/output/21/emp.csv\")"
      ],
      "metadata": {
        "id": "8ay5kak0dT0q"
      },
      "execution_count": 65,
      "outputs": []
    },
    {
      "cell_type": "markdown",
      "source": [
        "03_basic_transformations_2"
      ],
      "metadata": {
        "id": "YlFl1D2us9cu"
      }
    },
    {
      "cell_type": "code",
      "source": [
        "# Emp Data & Schema\n",
        "\n",
        "emp_data = [\n",
        "    [\"001\",\"101\",\"John Doe\",\"30\",\"Male\",\"50000\",\"2015-01-01\"],\n",
        "    [\"002\",\"101\",\"Jane Smith\",\"25\",\"Female\",\"45000\",\"2016-02-15\"],\n",
        "    [\"003\",\"102\",\"Bob Brown\",\"35\",\"Male\",\"55000\",\"2014-05-01\"],\n",
        "    [\"004\",\"102\",\"Alice Lee\",\"28\",\"Female\",\"48000\",\"2017-09-30\"],\n",
        "    [\"005\",\"103\",\"Jack Chan\",\"40\",\"Male\",\"60000\",\"2013-04-01\"],\n",
        "    [\"006\",\"103\",\"Jill Wong\",\"32\",\"Female\",\"52000\",\"2018-07-01\"],\n",
        "    [\"007\",\"101\",\"James Johnson\",\"42\",\"Male\",\"70000\",\"2012-03-15\"],\n",
        "    [\"008\",\"102\",\"Kate Kim\",\"29\",\"Female\",\"51000\",\"2019-10-01\"],\n",
        "    [\"009\",\"103\",\"Tom Tan\",\"33\",\"Male\",\"58000\",\"2016-06-01\"],\n",
        "    [\"010\",\"104\",\"Lisa Lee\",\"27\",\"Female\",\"47000\",\"2018-08-01\"],\n",
        "    [\"011\",\"104\",\"David Park\",\"38\",\"Male\",\"65000\",\"2015-11-01\"],\n",
        "    [\"012\",\"105\",\"Susan Chen\",\"31\",\"Female\",\"54000\",\"2017-02-15\"],\n",
        "    [\"013\",\"106\",\"Brian Kim\",\"45\",\"Male\",\"75000\",\"2011-07-01\"],\n",
        "    [\"014\",\"107\",\"Emily Lee\",\"26\",\"Female\",\"46000\",\"2019-01-01\"],\n",
        "    [\"015\",\"106\",\"Michael Lee\",\"37\",\"Male\",\"63000\",\"2014-09-30\"],\n",
        "    [\"016\",\"107\",\"Kelly Zhang\",\"30\",\"Female\",\"49000\",\"2018-04-01\"],\n",
        "    [\"017\",\"105\",\"George Wang\",\"34\",\"Male\",\"57000\",\"2016-03-15\"],\n",
        "    [\"018\",\"104\",\"Nancy Liu\",\"29\",\"Female\",\"50000\",\"2017-06-01\"],\n",
        "    [\"019\",\"103\",\"Steven Chen\",\"36\",\"Male\",\"62000\",\"2015-08-01\"],\n",
        "    [\"020\",\"102\",\"Grace Kim\",\"32\",\"Female\",\"53000\",\"2018-11-01\"]\n",
        "]\n",
        "\n",
        "emp_schema = \"employee_id string, department_id string, name string, age string, gender string, salary string, hire_date string\"\n",
        "# Create emp DataFrame\n",
        "\n",
        "emp = spark.createDataFrame(data=emp_data, schema=emp_schema)\n",
        "# Show emp dataframe (ACTION)\n",
        "\n",
        "emp.show()"
      ],
      "metadata": {
        "colab": {
          "base_uri": "https://localhost:8080/"
        },
        "id": "-BMGIj73hmdK",
        "outputId": "696100ed-bda9-4c20-c971-5a7ff67563f6"
      },
      "execution_count": 8,
      "outputs": [
        {
          "output_type": "stream",
          "name": "stdout",
          "text": [
            "+-----------+-------------+-------------+---+------+------+----------+\n",
            "|employee_id|department_id|         name|age|gender|salary| hire_date|\n",
            "+-----------+-------------+-------------+---+------+------+----------+\n",
            "|        001|          101|     John Doe| 30|  Male| 50000|2015-01-01|\n",
            "|        002|          101|   Jane Smith| 25|Female| 45000|2016-02-15|\n",
            "|        003|          102|    Bob Brown| 35|  Male| 55000|2014-05-01|\n",
            "|        004|          102|    Alice Lee| 28|Female| 48000|2017-09-30|\n",
            "|        005|          103|    Jack Chan| 40|  Male| 60000|2013-04-01|\n",
            "|        006|          103|    Jill Wong| 32|Female| 52000|2018-07-01|\n",
            "|        007|          101|James Johnson| 42|  Male| 70000|2012-03-15|\n",
            "|        008|          102|     Kate Kim| 29|Female| 51000|2019-10-01|\n",
            "|        009|          103|      Tom Tan| 33|  Male| 58000|2016-06-01|\n",
            "|        010|          104|     Lisa Lee| 27|Female| 47000|2018-08-01|\n",
            "|        011|          104|   David Park| 38|  Male| 65000|2015-11-01|\n",
            "|        012|          105|   Susan Chen| 31|Female| 54000|2017-02-15|\n",
            "|        013|          106|    Brian Kim| 45|  Male| 75000|2011-07-01|\n",
            "|        014|          107|    Emily Lee| 26|Female| 46000|2019-01-01|\n",
            "|        015|          106|  Michael Lee| 37|  Male| 63000|2014-09-30|\n",
            "|        016|          107|  Kelly Zhang| 30|Female| 49000|2018-04-01|\n",
            "|        017|          105|  George Wang| 34|  Male| 57000|2016-03-15|\n",
            "|        018|          104|    Nancy Liu| 29|Female| 50000|2017-06-01|\n",
            "|        019|          103|  Steven Chen| 36|  Male| 62000|2015-08-01|\n",
            "|        020|          102|    Grace Kim| 32|Female| 53000|2018-11-01|\n",
            "+-----------+-------------+-------------+---+------+------+----------+\n",
            "\n"
          ]
        }
      ]
    },
    {
      "cell_type": "code",
      "source": [
        "emp.printSchema()"
      ],
      "metadata": {
        "colab": {
          "base_uri": "https://localhost:8080/"
        },
        "id": "rqkj9e2dtQ-X",
        "outputId": "dfb61c46-7f65-488a-c97d-1de2f00787c7"
      },
      "execution_count": 9,
      "outputs": [
        {
          "output_type": "stream",
          "name": "stdout",
          "text": [
            "root\n",
            " |-- employee_id: string (nullable = true)\n",
            " |-- department_id: string (nullable = true)\n",
            " |-- name: string (nullable = true)\n",
            " |-- age: string (nullable = true)\n",
            " |-- gender: string (nullable = true)\n",
            " |-- salary: string (nullable = true)\n",
            " |-- hire_date: string (nullable = true)\n",
            "\n"
          ]
        }
      ]
    },
    {
      "cell_type": "code",
      "source": [
        "#  Q3Casting Column\n",
        "# select employee_id, name, age, cast(salary as double) as salary from emp\n",
        "from pyspark.sql.functions import col, cast\n",
        "emp_casted = emp.select(col(\"employee_id\"), col(\"name\"), col(\"age\"), col(\"salary\").cast(\"double\"))"
      ],
      "metadata": {
        "id": "Yi_-r5KHtVx6"
      },
      "execution_count": 11,
      "outputs": []
    },
    {
      "cell_type": "code",
      "source": [
        "emp_casted.printSchema()"
      ],
      "metadata": {
        "colab": {
          "base_uri": "https://localhost:8080/"
        },
        "id": "3GkPhDiYt5ZS",
        "outputId": "44d3ed29-f0f6-403c-e2fc-4310fd132c92"
      },
      "execution_count": 12,
      "outputs": [
        {
          "output_type": "stream",
          "name": "stdout",
          "text": [
            "root\n",
            " |-- employee_id: string (nullable = true)\n",
            " |-- name: string (nullable = true)\n",
            " |-- age: string (nullable = true)\n",
            " |-- salary: double (nullable = true)\n",
            "\n"
          ]
        }
      ]
    },
    {
      "cell_type": "code",
      "source": [
        "# Q4 Adding Columns\n",
        "# select employee_id, name, age, salary, (salary * 0.2) as tax from emp_casted\n",
        "emp_taxed = emp_casted.withColumn(\"tax\", col(\"salary\") * 0.2)\n",
        "\n"
      ],
      "metadata": {
        "id": "2TlHKF6tub9N"
      },
      "execution_count": 13,
      "outputs": []
    },
    {
      "cell_type": "code",
      "source": [
        "emp_taxed.show()"
      ],
      "metadata": {
        "colab": {
          "base_uri": "https://localhost:8080/"
        },
        "id": "lb-zg82avG-2",
        "outputId": "34059160-ea09-4630-a951-b85f36e91564"
      },
      "execution_count": 14,
      "outputs": [
        {
          "output_type": "stream",
          "name": "stdout",
          "text": [
            "+-----------+-------------+---+-------+-------+\n",
            "|employee_id|         name|age| salary|    tax|\n",
            "+-----------+-------------+---+-------+-------+\n",
            "|        001|     John Doe| 30|50000.0|10000.0|\n",
            "|        002|   Jane Smith| 25|45000.0| 9000.0|\n",
            "|        003|    Bob Brown| 35|55000.0|11000.0|\n",
            "|        004|    Alice Lee| 28|48000.0| 9600.0|\n",
            "|        005|    Jack Chan| 40|60000.0|12000.0|\n",
            "|        006|    Jill Wong| 32|52000.0|10400.0|\n",
            "|        007|James Johnson| 42|70000.0|14000.0|\n",
            "|        008|     Kate Kim| 29|51000.0|10200.0|\n",
            "|        009|      Tom Tan| 33|58000.0|11600.0|\n",
            "|        010|     Lisa Lee| 27|47000.0| 9400.0|\n",
            "|        011|   David Park| 38|65000.0|13000.0|\n",
            "|        012|   Susan Chen| 31|54000.0|10800.0|\n",
            "|        013|    Brian Kim| 45|75000.0|15000.0|\n",
            "|        014|    Emily Lee| 26|46000.0| 9200.0|\n",
            "|        015|  Michael Lee| 37|63000.0|12600.0|\n",
            "|        016|  Kelly Zhang| 30|49000.0| 9800.0|\n",
            "|        017|  George Wang| 34|57000.0|11400.0|\n",
            "|        018|    Nancy Liu| 29|50000.0|10000.0|\n",
            "|        019|  Steven Chen| 36|62000.0|12400.0|\n",
            "|        020|    Grace Kim| 32|53000.0|10600.0|\n",
            "+-----------+-------------+---+-------+-------+\n",
            "\n"
          ]
        }
      ]
    },
    {
      "cell_type": "code",
      "source": [
        "#  Q5 Literals\n",
        "# select employee_id, name, age, salary, tax, 1 as columnOne, 'two' as columnTwo from emp_taxed\n",
        "from pyspark.sql.functions import lit\n",
        "emp_new_cols= emp_taxed.withColumn(\"columnOne\", lit(1)).withColumn(\"columnTwo\", lit(\"two\"))"
      ],
      "metadata": {
        "id": "w0Y1nN9avJXN"
      },
      "execution_count": 19,
      "outputs": []
    },
    {
      "cell_type": "code",
      "source": [
        "emp_new_cols.show()"
      ],
      "metadata": {
        "colab": {
          "base_uri": "https://localhost:8080/"
        },
        "id": "Gvvhpg6rTWsR",
        "outputId": "a10196cf-a826-4709-dc14-31153da39ce5"
      },
      "execution_count": 20,
      "outputs": [
        {
          "output_type": "stream",
          "name": "stdout",
          "text": [
            "+-----------+-------------+---+-------+-------+---------+---------+\n",
            "|employee_id|         name|age| salary|    tax|columnOne|columnTwo|\n",
            "+-----------+-------------+---+-------+-------+---------+---------+\n",
            "|        001|     John Doe| 30|50000.0|10000.0|        1|      two|\n",
            "|        002|   Jane Smith| 25|45000.0| 9000.0|        1|      two|\n",
            "|        003|    Bob Brown| 35|55000.0|11000.0|        1|      two|\n",
            "|        004|    Alice Lee| 28|48000.0| 9600.0|        1|      two|\n",
            "|        005|    Jack Chan| 40|60000.0|12000.0|        1|      two|\n",
            "|        006|    Jill Wong| 32|52000.0|10400.0|        1|      two|\n",
            "|        007|James Johnson| 42|70000.0|14000.0|        1|      two|\n",
            "|        008|     Kate Kim| 29|51000.0|10200.0|        1|      two|\n",
            "|        009|      Tom Tan| 33|58000.0|11600.0|        1|      two|\n",
            "|        010|     Lisa Lee| 27|47000.0| 9400.0|        1|      two|\n",
            "|        011|   David Park| 38|65000.0|13000.0|        1|      two|\n",
            "|        012|   Susan Chen| 31|54000.0|10800.0|        1|      two|\n",
            "|        013|    Brian Kim| 45|75000.0|15000.0|        1|      two|\n",
            "|        014|    Emily Lee| 26|46000.0| 9200.0|        1|      two|\n",
            "|        015|  Michael Lee| 37|63000.0|12600.0|        1|      two|\n",
            "|        016|  Kelly Zhang| 30|49000.0| 9800.0|        1|      two|\n",
            "|        017|  George Wang| 34|57000.0|11400.0|        1|      two|\n",
            "|        018|    Nancy Liu| 29|50000.0|10000.0|        1|      two|\n",
            "|        019|  Steven Chen| 36|62000.0|12400.0|        1|      two|\n",
            "|        020|    Grace Kim| 32|53000.0|10600.0|        1|      two|\n",
            "+-----------+-------------+---+-------+-------+---------+---------+\n",
            "\n"
          ]
        }
      ]
    },
    {
      "cell_type": "code",
      "source": [
        "# Q5Renaming Columns\n",
        "# select employee_id as emp_id, name, age, salary, tax, columnOne, columnTwo from emp_new_cols\n",
        "\n",
        "emp_1 = emp_new_cols.withColumnRenamed(\"employee_id\", \"emp_id\")\n",
        "emp_1.show()"
      ],
      "metadata": {
        "colab": {
          "base_uri": "https://localhost:8080/"
        },
        "id": "iDMKpI-lTcsQ",
        "outputId": "54e13a94-4186-470a-a2e2-19ff23d24993"
      },
      "execution_count": 22,
      "outputs": [
        {
          "output_type": "stream",
          "name": "stdout",
          "text": [
            "+------+-------------+---+-------+-------+---------+---------+\n",
            "|emp_id|         name|age| salary|    tax|columnOne|columnTwo|\n",
            "+------+-------------+---+-------+-------+---------+---------+\n",
            "|   001|     John Doe| 30|50000.0|10000.0|        1|      two|\n",
            "|   002|   Jane Smith| 25|45000.0| 9000.0|        1|      two|\n",
            "|   003|    Bob Brown| 35|55000.0|11000.0|        1|      two|\n",
            "|   004|    Alice Lee| 28|48000.0| 9600.0|        1|      two|\n",
            "|   005|    Jack Chan| 40|60000.0|12000.0|        1|      two|\n",
            "|   006|    Jill Wong| 32|52000.0|10400.0|        1|      two|\n",
            "|   007|James Johnson| 42|70000.0|14000.0|        1|      two|\n",
            "|   008|     Kate Kim| 29|51000.0|10200.0|        1|      two|\n",
            "|   009|      Tom Tan| 33|58000.0|11600.0|        1|      two|\n",
            "|   010|     Lisa Lee| 27|47000.0| 9400.0|        1|      two|\n",
            "|   011|   David Park| 38|65000.0|13000.0|        1|      two|\n",
            "|   012|   Susan Chen| 31|54000.0|10800.0|        1|      two|\n",
            "|   013|    Brian Kim| 45|75000.0|15000.0|        1|      two|\n",
            "|   014|    Emily Lee| 26|46000.0| 9200.0|        1|      two|\n",
            "|   015|  Michael Lee| 37|63000.0|12600.0|        1|      two|\n",
            "|   016|  Kelly Zhang| 30|49000.0| 9800.0|        1|      two|\n",
            "|   017|  George Wang| 34|57000.0|11400.0|        1|      two|\n",
            "|   018|    Nancy Liu| 29|50000.0|10000.0|        1|      two|\n",
            "|   019|  Steven Chen| 36|62000.0|12400.0|        1|      two|\n",
            "|   020|    Grace Kim| 32|53000.0|10600.0|        1|      two|\n",
            "+------+-------------+---+-------+-------+---------+---------+\n",
            "\n"
          ]
        }
      ]
    },
    {
      "cell_type": "code",
      "source": [
        "# q6Column names with Spaces\n",
        "# select employee_id as emp_id, name, age, salary, tax, columnOne, columnTwo as `Column Two` from emp_new_cols\n",
        "\n",
        "emp_2 = emp_new_cols.withColumnRenamed(\"columnTwo\", \"Column Two\")\n",
        "emp_2.show()"
      ],
      "metadata": {
        "colab": {
          "base_uri": "https://localhost:8080/"
        },
        "id": "XiFicoPXU-pX",
        "outputId": "9dd22976-9c32-488f-b714-8b7a83f1aa19"
      },
      "execution_count": 23,
      "outputs": [
        {
          "output_type": "stream",
          "name": "stdout",
          "text": [
            "+-----------+-------------+---+-------+-------+---------+----------+\n",
            "|employee_id|         name|age| salary|    tax|columnOne|Column Two|\n",
            "+-----------+-------------+---+-------+-------+---------+----------+\n",
            "|        001|     John Doe| 30|50000.0|10000.0|        1|       two|\n",
            "|        002|   Jane Smith| 25|45000.0| 9000.0|        1|       two|\n",
            "|        003|    Bob Brown| 35|55000.0|11000.0|        1|       two|\n",
            "|        004|    Alice Lee| 28|48000.0| 9600.0|        1|       two|\n",
            "|        005|    Jack Chan| 40|60000.0|12000.0|        1|       two|\n",
            "|        006|    Jill Wong| 32|52000.0|10400.0|        1|       two|\n",
            "|        007|James Johnson| 42|70000.0|14000.0|        1|       two|\n",
            "|        008|     Kate Kim| 29|51000.0|10200.0|        1|       two|\n",
            "|        009|      Tom Tan| 33|58000.0|11600.0|        1|       two|\n",
            "|        010|     Lisa Lee| 27|47000.0| 9400.0|        1|       two|\n",
            "|        011|   David Park| 38|65000.0|13000.0|        1|       two|\n",
            "|        012|   Susan Chen| 31|54000.0|10800.0|        1|       two|\n",
            "|        013|    Brian Kim| 45|75000.0|15000.0|        1|       two|\n",
            "|        014|    Emily Lee| 26|46000.0| 9200.0|        1|       two|\n",
            "|        015|  Michael Lee| 37|63000.0|12600.0|        1|       two|\n",
            "|        016|  Kelly Zhang| 30|49000.0| 9800.0|        1|       two|\n",
            "|        017|  George Wang| 34|57000.0|11400.0|        1|       two|\n",
            "|        018|    Nancy Liu| 29|50000.0|10000.0|        1|       two|\n",
            "|        019|  Steven Chen| 36|62000.0|12400.0|        1|       two|\n",
            "|        020|    Grace Kim| 32|53000.0|10600.0|        1|       two|\n",
            "+-----------+-------------+---+-------+-------+---------+----------+\n",
            "\n"
          ]
        }
      ]
    },
    {
      "cell_type": "code",
      "source": [
        "# Q7Remove Column\n",
        "\n",
        "emp_dropped = emp_new_cols.drop(\"columnTwo\", \"columnOne\")\n",
        "emp_dropped.show()"
      ],
      "metadata": {
        "colab": {
          "base_uri": "https://localhost:8080/"
        },
        "id": "EZAVHbueVRbV",
        "outputId": "5001b47a-678d-4c54-d23d-27370abc02fc"
      },
      "execution_count": 24,
      "outputs": [
        {
          "output_type": "stream",
          "name": "stdout",
          "text": [
            "+-----------+-------------+---+-------+-------+\n",
            "|employee_id|         name|age| salary|    tax|\n",
            "+-----------+-------------+---+-------+-------+\n",
            "|        001|     John Doe| 30|50000.0|10000.0|\n",
            "|        002|   Jane Smith| 25|45000.0| 9000.0|\n",
            "|        003|    Bob Brown| 35|55000.0|11000.0|\n",
            "|        004|    Alice Lee| 28|48000.0| 9600.0|\n",
            "|        005|    Jack Chan| 40|60000.0|12000.0|\n",
            "|        006|    Jill Wong| 32|52000.0|10400.0|\n",
            "|        007|James Johnson| 42|70000.0|14000.0|\n",
            "|        008|     Kate Kim| 29|51000.0|10200.0|\n",
            "|        009|      Tom Tan| 33|58000.0|11600.0|\n",
            "|        010|     Lisa Lee| 27|47000.0| 9400.0|\n",
            "|        011|   David Park| 38|65000.0|13000.0|\n",
            "|        012|   Susan Chen| 31|54000.0|10800.0|\n",
            "|        013|    Brian Kim| 45|75000.0|15000.0|\n",
            "|        014|    Emily Lee| 26|46000.0| 9200.0|\n",
            "|        015|  Michael Lee| 37|63000.0|12600.0|\n",
            "|        016|  Kelly Zhang| 30|49000.0| 9800.0|\n",
            "|        017|  George Wang| 34|57000.0|11400.0|\n",
            "|        018|    Nancy Liu| 29|50000.0|10000.0|\n",
            "|        019|  Steven Chen| 36|62000.0|12400.0|\n",
            "|        020|    Grace Kim| 32|53000.0|10600.0|\n",
            "+-----------+-------------+---+-------+-------+\n",
            "\n"
          ]
        }
      ]
    },
    {
      "cell_type": "code",
      "source": [
        "# Q8Filter data\n",
        "# select employee_id as emp_id, name, age, salary, tax, columnOne from emp_col_dropped where tax > 1000\n",
        "\n",
        "emp_filtered = emp_dropped.where(\"tax > 10000\")\n",
        "emp_filtered.show()"
      ],
      "metadata": {
        "colab": {
          "base_uri": "https://localhost:8080/"
        },
        "id": "gZz5IxnbVdAU",
        "outputId": "13df9286-e0ef-4d8b-ecd0-d9c83fb133ce"
      },
      "execution_count": 25,
      "outputs": [
        {
          "output_type": "stream",
          "name": "stdout",
          "text": [
            "+-----------+-------------+---+-------+-------+\n",
            "|employee_id|         name|age| salary|    tax|\n",
            "+-----------+-------------+---+-------+-------+\n",
            "|        003|    Bob Brown| 35|55000.0|11000.0|\n",
            "|        005|    Jack Chan| 40|60000.0|12000.0|\n",
            "|        006|    Jill Wong| 32|52000.0|10400.0|\n",
            "|        007|James Johnson| 42|70000.0|14000.0|\n",
            "|        008|     Kate Kim| 29|51000.0|10200.0|\n",
            "|        009|      Tom Tan| 33|58000.0|11600.0|\n",
            "|        011|   David Park| 38|65000.0|13000.0|\n",
            "|        012|   Susan Chen| 31|54000.0|10800.0|\n",
            "|        013|    Brian Kim| 45|75000.0|15000.0|\n",
            "|        015|  Michael Lee| 37|63000.0|12600.0|\n",
            "|        017|  George Wang| 34|57000.0|11400.0|\n",
            "|        019|  Steven Chen| 36|62000.0|12400.0|\n",
            "|        020|    Grace Kim| 32|53000.0|10600.0|\n",
            "+-----------+-------------+---+-------+-------+\n",
            "\n"
          ]
        }
      ]
    },
    {
      "cell_type": "code",
      "source": [
        "# Q9LIMIT data\n",
        "# select employee_id as emp_id, name, age, salary, tax, columnOne from emp_filtered limit 5\n",
        "\n",
        "emp_limit = emp_filtered.limit(5)\n",
        "# Show data\n",
        "\n",
        "emp_limit.show(2)"
      ],
      "metadata": {
        "colab": {
          "base_uri": "https://localhost:8080/"
        },
        "id": "JlqUVq-KVlZ5",
        "outputId": "78c5a507-3e14-4031-96ac-3e15fd785384"
      },
      "execution_count": 26,
      "outputs": [
        {
          "output_type": "stream",
          "name": "stdout",
          "text": [
            "+-----------+---------+---+-------+-------+\n",
            "|employee_id|     name|age| salary|    tax|\n",
            "+-----------+---------+---+-------+-------+\n",
            "|        003|Bob Brown| 35|55000.0|11000.0|\n",
            "|        005|Jack Chan| 40|60000.0|12000.0|\n",
            "+-----------+---------+---+-------+-------+\n",
            "only showing top 2 rows\n",
            "\n"
          ]
        }
      ]
    },
    {
      "cell_type": "code",
      "source": [
        "# Bonus TIP\n",
        "# Add multiple columns\n",
        "\n",
        "columns = {\n",
        "    \"tax\" : col(\"salary\") * 0.2 ,\n",
        "    \"oneNumber\" : lit(1),\n",
        "    \"columnTwo\" : lit(\"two\")\n",
        "}\n",
        "\n",
        "emp_final = emp.withColumns(columns)\n",
        "emp_final.show()"
      ],
      "metadata": {
        "colab": {
          "base_uri": "https://localhost:8080/"
        },
        "id": "5A1HGvf8WgFn",
        "outputId": "347260a6-9c47-49ca-e784-6ad8b34503b4"
      },
      "execution_count": 27,
      "outputs": [
        {
          "output_type": "stream",
          "name": "stdout",
          "text": [
            "+-----------+-------------+-------------+---+------+------+----------+-------+---------+---------+\n",
            "|employee_id|department_id|         name|age|gender|salary| hire_date|    tax|oneNumber|columnTwo|\n",
            "+-----------+-------------+-------------+---+------+------+----------+-------+---------+---------+\n",
            "|        001|          101|     John Doe| 30|  Male| 50000|2015-01-01|10000.0|        1|      two|\n",
            "|        002|          101|   Jane Smith| 25|Female| 45000|2016-02-15| 9000.0|        1|      two|\n",
            "|        003|          102|    Bob Brown| 35|  Male| 55000|2014-05-01|11000.0|        1|      two|\n",
            "|        004|          102|    Alice Lee| 28|Female| 48000|2017-09-30| 9600.0|        1|      two|\n",
            "|        005|          103|    Jack Chan| 40|  Male| 60000|2013-04-01|12000.0|        1|      two|\n",
            "|        006|          103|    Jill Wong| 32|Female| 52000|2018-07-01|10400.0|        1|      two|\n",
            "|        007|          101|James Johnson| 42|  Male| 70000|2012-03-15|14000.0|        1|      two|\n",
            "|        008|          102|     Kate Kim| 29|Female| 51000|2019-10-01|10200.0|        1|      two|\n",
            "|        009|          103|      Tom Tan| 33|  Male| 58000|2016-06-01|11600.0|        1|      two|\n",
            "|        010|          104|     Lisa Lee| 27|Female| 47000|2018-08-01| 9400.0|        1|      two|\n",
            "|        011|          104|   David Park| 38|  Male| 65000|2015-11-01|13000.0|        1|      two|\n",
            "|        012|          105|   Susan Chen| 31|Female| 54000|2017-02-15|10800.0|        1|      two|\n",
            "|        013|          106|    Brian Kim| 45|  Male| 75000|2011-07-01|15000.0|        1|      two|\n",
            "|        014|          107|    Emily Lee| 26|Female| 46000|2019-01-01| 9200.0|        1|      two|\n",
            "|        015|          106|  Michael Lee| 37|  Male| 63000|2014-09-30|12600.0|        1|      two|\n",
            "|        016|          107|  Kelly Zhang| 30|Female| 49000|2018-04-01| 9800.0|        1|      two|\n",
            "|        017|          105|  George Wang| 34|  Male| 57000|2016-03-15|11400.0|        1|      two|\n",
            "|        018|          104|    Nancy Liu| 29|Female| 50000|2017-06-01|10000.0|        1|      two|\n",
            "|        019|          103|  Steven Chen| 36|  Male| 62000|2015-08-01|12400.0|        1|      two|\n",
            "|        020|          102|    Grace Kim| 32|Female| 53000|2018-11-01|10600.0|        1|      two|\n",
            "+-----------+-------------+-------------+---+------+------+----------+-------+---------+---------+\n",
            "\n"
          ]
        }
      ]
    },
    {
      "cell_type": "code",
      "source": [],
      "metadata": {
        "id": "g8q2L_2zXUQU"
      },
      "execution_count": null,
      "outputs": []
    }
  ]
}